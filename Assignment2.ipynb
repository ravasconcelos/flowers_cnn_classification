{
 "cells": [
  {
   "cell_type": "markdown",
   "metadata": {},
   "source": [
    "## Classifying Flowers using Transfer Learning in Keras\n",
    "\n",
    "1- Download a small flower dataset (http://download.tensorflow.org/example_images/flower_photos.tgz). This dataset has 5 classes (Daisy, Dandelion, Rese, Sunflower, and Tulip). Images for each class are stored in its own folder.\n",
    "\n",
    "2- The images have different dimensions. Resize all of them to 150x150.\n",
    "\n",
    "3- Split images to 75-25% for training and test. Make sure you have the same distribution of flower types between train and test datasets. \n",
    "\n",
    "4- Use a VGG16 model (pre-trained on ImageNet)\n",
    "\n",
    "5- Remove the top layers (fully connected layers)\n",
    "\n",
    "6- Add your own fully connected layers (one with 256 nodes using ‘relu’ activation and output layer with 5 nodes and ‘softmax’ activation)\n",
    "\n",
    "7- First, freeze all layers of VGG16, train (fine-tune) and evaluate the model. You need to pick the right hyper-parameters for your training (try with different ones)\n",
    "\n",
    "8- Second, unfreeze the last block of VGG16 (block5), re-train and evaluate the model\n",
    "\n",
    "9- Unfreeze all the layers and try again. \n",
    "\n",
    "10- Compare the accuracy you got in both cases . Which one is better and why?"
   ]
  },
  {
   "cell_type": "markdown",
   "metadata": {},
   "source": [
    " "
   ]
  },
  {
   "cell_type": "markdown",
   "metadata": {},
   "source": [
    "## Setup"
   ]
  },
  {
   "cell_type": "code",
   "execution_count": 1,
   "metadata": {},
   "outputs": [],
   "source": [
    "# if True, will download the pictures\n",
    "# set to True only the first time you are running this notebook\n",
    "download_pictures = True\n"
   ]
  },
  {
   "cell_type": "code",
   "execution_count": 2,
   "metadata": {},
   "outputs": [
    {
     "name": "stderr",
     "output_type": "stream",
     "text": [
      "Using TensorFlow backend.\n"
     ]
    }
   ],
   "source": [
    "from keras import optimizers\n",
    "from keras.callbacks import EarlyStopping\n",
    "\n",
    "image_w, image_h = 150, 150\n",
    "batch_size = 20\n",
    "epochs = 10\n",
    "loss = \"sparse_categorical_crossentropy\"\n",
    "metrics = [\"accuracy\"]\n",
    "optimizer = optimizers.SGD(lr=0.0001, momentum=0.9)\n",
    "es = EarlyStopping(monitor='accuracy', mode='min', verbose=1)\n",
    "weights = \"imagenet\"\n",
    "disable_early_stopping = True\n",
    "callbacks=[es]\n",
    "if disable_early_stopping:\n",
    "    callbacks=[]\n"
   ]
  },
  {
   "cell_type": "code",
   "execution_count": 3,
   "metadata": {},
   "outputs": [],
   "source": [
    "from IPython.display import Image\n",
    "import warnings\n",
    "warnings.filterwarnings(\"ignore\")\n",
    "warnings.simplefilter(\"ignore\")\n",
    "from setups import *\n",
    "from plotting import *\n",
    "from keras import applications\n",
    "from keras.models import Sequential, Model\n",
    "from keras.layers import Dropout, Flatten, Dense, GlobalAveragePooling2D"
   ]
  },
  {
   "cell_type": "code",
   "execution_count": 4,
   "metadata": {},
   "outputs": [],
   "source": [
    "# Trainable layers\n",
    "def printTrainableLayers(model):\n",
    "    for i, layer in enumerate(model.layers):\n",
    "        print(i, layer.name, layer.trainable)"
   ]
  },
  {
   "cell_type": "code",
   "execution_count": 5,
   "metadata": {},
   "outputs": [],
   "source": [
    "def printAccuracy(score):\n",
    "    print('Test loss:', score[0])\n",
    "    print('Test accuracy:', score[1])"
   ]
  },
  {
   "cell_type": "markdown",
   "metadata": {},
   "source": [
    " "
   ]
  },
  {
   "cell_type": "markdown",
   "metadata": {},
   "source": [
    "## Data Preparation"
   ]
  },
  {
   "cell_type": "code",
   "execution_count": 6,
   "metadata": {},
   "outputs": [],
   "source": [
    "import urllib.request\n",
    "import tarfile\n",
    "\n",
    "local_filename = 'flower_photos.tgz'\n",
    "\n",
    "# download the pictures depending on the flag\n",
    "if download_pictures:\n",
    "    local_filename, headers = urllib.request.urlretrieve('http://download.tensorflow.org/example_images/flower_photos.tgz',\n",
    "                                                    filename=local_filename)\n",
    "    print(headers)\n",
    "    tar = tarfile.open(local_filename, \"r:gz\")\n",
    "    tar.extractall(path=\".\")\n",
    "    tar.close()"
   ]
  },
  {
   "cell_type": "code",
   "execution_count": 7,
   "metadata": {},
   "outputs": [
    {
     "name": "stdout",
     "output_type": "stream",
     "text": [
      "Found 2755 images belonging to 5 classes.\n",
      "Found 915 images belonging to 5 classes.\n"
     ]
    }
   ],
   "source": [
    "from tensorflow.keras.preprocessing.image import ImageDataGenerator\n",
    "\n",
    "train_dir = \"flower_photos\"\n",
    "\n",
    "# All images will be rescaled by 1./255\n",
    "train_datagen = ImageDataGenerator(rescale=1./255, validation_split=0.25)\n",
    "\n",
    "train_generator = train_datagen.flow_from_directory(\n",
    "        # This is the target directory\n",
    "        train_dir,\n",
    "        # All images will be resized to 150x150\n",
    "        target_size=(image_w, image_h),\n",
    "        batch_size=batch_size,\n",
    "        # Since we use binary_crossentropy loss, we need binary labels\n",
    "        class_mode='binary',\n",
    "        subset='training')\n",
    "\n",
    "test_generator = train_datagen.flow_from_directory(\n",
    "        # This is the target directory\n",
    "        train_dir,\n",
    "        # All images will be resized to 150x150\n",
    "        target_size=(image_w, image_h),\n",
    "        batch_size=batch_size,\n",
    "        # Since we use binary_crossentropy loss, we need binary labels\n",
    "        class_mode='binary',\n",
    "        subset='validation')\n"
   ]
  },
  {
   "cell_type": "code",
   "execution_count": 8,
   "metadata": {},
   "outputs": [],
   "source": [
    "from tensorflow.keras.preprocessing import image\n",
    "\n",
    "def printImage(generator):\n",
    "    for data_batch, labels_batch in train_generator:\n",
    "        plt.figure(0)\n",
    "        imgplot = plt.imshow(image.array_to_img(data_batch[0]))\n",
    "        print('Data batch shape:', data_batch.shape)\n",
    "        print('Labels batch shape:', labels_batch.shape)\n",
    "        break"
   ]
  },
  {
   "cell_type": "code",
   "execution_count": 9,
   "metadata": {},
   "outputs": [
    {
     "name": "stdout",
     "output_type": "stream",
     "text": [
      "Training data\n",
      "Data batch shape: (20, 150, 150, 3)\n",
      "Labels batch shape: (20,)\n"
     ]
    },
    {
     "data": {
      "image/png": "[encoded data removed]",
      "text/plain": [
       "<Figure size 432x288 with 1 Axes>"
      ]
     },
     "metadata": {
      "needs_background": "light"
     },
     "output_type": "display_data"
    }
   ],
   "source": [
    "print('Training data')\n",
    "printImage(train_generator)"
   ]
  },
  {
   "cell_type": "code",
   "execution_count": 10,
   "metadata": {},
   "outputs": [
    {
     "name": "stdout",
     "output_type": "stream",
     "text": [
      "Testing data\n",
      "Data batch shape: (20, 150, 150, 3)\n",
      "Labels batch shape: (20,)\n"
     ]
    },
    {
     "data": {
      "image/png": "[encoded data removed]",
      "text/plain": [
       "<Figure size 432x288 with 1 Axes>"
      ]
     },
     "metadata": {
      "needs_background": "light"
     },
     "output_type": "display_data"
    }
   ],
   "source": [
    "print('Testing data')\n",
    "printImage(test_generator)\n"
   ]
  },
  {
   "cell_type": "markdown",
   "metadata": {},
   "source": [
    " "
   ]
  },
  {
   "cell_type": "markdown",
   "metadata": {},
   "source": [
    "## Model1"
   ]
  },
  {
   "cell_type": "markdown",
   "metadata": {},
   "source": [
    "### Hyperparameters Set 1\n",
    "\n",
    "applications.VGG16.pooling=None\n",
    "\n",
    "optimizers.SGD(lr=0.0001, momentum=0.9)"
   ]
  },
  {
   "cell_type": "code",
   "execution_count": 11,
   "metadata": {},
   "outputs": [
    {
     "name": "stdout",
     "output_type": "stream",
     "text": [
      "0 input_1 False\n",
      "1 block1_conv1 False\n",
      "2 block1_conv2 False\n",
      "3 block1_pool False\n",
      "4 block2_conv1 False\n",
      "5 block2_conv2 False\n",
      "6 block2_pool False\n",
      "7 block3_conv1 False\n",
      "8 block3_conv2 False\n",
      "9 block3_conv3 False\n",
      "10 block3_pool False\n",
      "11 block4_conv1 False\n",
      "12 block4_conv2 False\n",
      "13 block4_conv3 False\n",
      "14 block4_pool False\n",
      "15 block5_conv1 False\n",
      "16 block5_conv2 False\n",
      "17 block5_conv3 False\n",
      "18 block5_pool False\n",
      "Model: \"vgg16\"\n",
      "_________________________________________________________________\n",
      "Layer (type)                 Output Shape              Param #   \n",
      "=================================================================\n",
      "input_1 (InputLayer)         (None, 150, 150, 3)       0         \n",
      "_________________________________________________________________\n",
      "block1_conv1 (Conv2D)        (None, 150, 150, 64)      1792      \n",
      "_________________________________________________________________\n",
      "block1_conv2 (Conv2D)        (None, 150, 150, 64)      36928     \n",
      "_________________________________________________________________\n",
      "block1_pool (MaxPooling2D)   (None, 75, 75, 64)        0         \n",
      "_________________________________________________________________\n",
      "block2_conv1 (Conv2D)        (None, 75, 75, 128)       73856     \n",
      "_________________________________________________________________\n",
      "block2_conv2 (Conv2D)        (None, 75, 75, 128)       147584    \n",
      "_________________________________________________________________\n",
      "block2_pool (MaxPooling2D)   (None, 37, 37, 128)       0         \n",
      "_________________________________________________________________\n",
      "block3_conv1 (Conv2D)        (None, 37, 37, 256)       295168    \n",
      "_________________________________________________________________\n",
      "block3_conv2 (Conv2D)        (None, 37, 37, 256)       590080    \n",
      "_________________________________________________________________\n",
      "block3_conv3 (Conv2D)        (None, 37, 37, 256)       590080    \n",
      "_________________________________________________________________\n",
      "block3_pool (MaxPooling2D)   (None, 18, 18, 256)       0         \n",
      "_________________________________________________________________\n",
      "block4_conv1 (Conv2D)        (None, 18, 18, 512)       1180160   \n",
      "_________________________________________________________________\n",
      "block4_conv2 (Conv2D)        (None, 18, 18, 512)       2359808   \n",
      "_________________________________________________________________\n",
      "block4_conv3 (Conv2D)        (None, 18, 18, 512)       2359808   \n",
      "_________________________________________________________________\n",
      "block4_pool (MaxPooling2D)   (None, 9, 9, 512)         0         \n",
      "_________________________________________________________________\n",
      "block5_conv1 (Conv2D)        (None, 9, 9, 512)         2359808   \n",
      "_________________________________________________________________\n",
      "block5_conv2 (Conv2D)        (None, 9, 9, 512)         2359808   \n",
      "_________________________________________________________________\n",
      "block5_conv3 (Conv2D)        (None, 9, 9, 512)         2359808   \n",
      "_________________________________________________________________\n",
      "block5_pool (MaxPooling2D)   (None, 4, 4, 512)         0         \n",
      "=================================================================\n",
      "Total params: 14,714,688\n",
      "Trainable params: 0\n",
      "Non-trainable params: 14,714,688\n",
      "_________________________________________________________________\n"
     ]
    }
   ],
   "source": [
    "# VGG16 pre-trained model without fully connected layers and with different input dimensions\n",
    "model1 = applications.VGG16(weights = weights, include_top=False, input_shape = (image_w, image_h, 3))\n",
    "# Freezing all layers\n",
    "for layer in model1.layers:\n",
    "    layer.trainable = False\n",
    "printTrainableLayers(model1)\n",
    "model1.summary()"
   ]
  },
  {
   "cell_type": "code",
   "execution_count": 12,
   "metadata": {},
   "outputs": [
    {
     "name": "stdout",
     "output_type": "stream",
     "text": [
      "Model: \"sequential_1\"\n",
      "_________________________________________________________________\n",
      "Layer (type)                 Output Shape              Param #   \n",
      "=================================================================\n",
      "vgg16 (Model)                (None, 4, 4, 512)         14714688  \n",
      "_________________________________________________________________\n",
      "flatten (Flatten)            (None, 8192)              0         \n",
      "_________________________________________________________________\n",
      "new_fc1 (Dense)              (None, 256)               2097408   \n",
      "_________________________________________________________________\n",
      "new_predictions (Dense)      (None, 5)                 1285      \n",
      "=================================================================\n",
      "Total params: 16,813,381\n",
      "Trainable params: 2,098,693\n",
      "Non-trainable params: 14,714,688\n",
      "_________________________________________________________________\n"
     ]
    }
   ],
   "source": [
    "# Adding custom layers to create a new model \n",
    "new_model1 = Sequential([\n",
    "    model1,\n",
    "    Flatten(name='flatten'),\n",
    "    Dense(256, activation='relu', name='new_fc1'),\n",
    "    Dense(5, activation='softmax', name='new_predictions')\n",
    "])\n",
    "new_model1.summary()"
   ]
  },
  {
   "cell_type": "code",
   "execution_count": 13,
   "metadata": {},
   "outputs": [
    {
     "name": "stdout",
     "output_type": "stream",
     "text": [
      "Epoch 1/10\n",
      "138/138 [==============================] - 248s 2s/step - loss: 1.4574 - accuracy: 0.4062\n",
      "Epoch 2/10\n",
      "138/138 [==============================] - 256s 2s/step - loss: 1.1309 - accuracy: 0.6174\n",
      "Epoch 3/10\n",
      "138/138 [==============================] - 260s 2s/step - loss: 0.9761 - accuracy: 0.6751\n",
      "Epoch 4/10\n",
      "138/138 [==============================] - 251s 2s/step - loss: 0.8831 - accuracy: 0.7078\n",
      "Epoch 5/10\n",
      "138/138 [==============================] - 258s 2s/step - loss: 0.8187 - accuracy: 0.7267\n",
      "Epoch 6/10\n",
      "138/138 [==============================] - 267s 2s/step - loss: 0.7658 - accuracy: 0.7503\n",
      "Epoch 7/10\n",
      "138/138 [==============================] - 264s 2s/step - loss: 0.7317 - accuracy: 0.7597\n",
      "Epoch 8/10\n",
      "138/138 [==============================] - 261s 2s/step - loss: 0.6983 - accuracy: 0.7757\n",
      "Epoch 9/10\n",
      "138/138 [==============================] - 263s 2s/step - loss: 0.6688 - accuracy: 0.7808\n",
      "Epoch 10/10\n",
      "138/138 [==============================] - 257s 2s/step - loss: 0.6500 - accuracy: 0.7887\n",
      "46/46 [==============================] - 84s 2s/step\n",
      "Test loss: 0.9433407187461853\n",
      "Test accuracy: 0.6918032765388489\n"
     ]
    }
   ],
   "source": [
    "# Compiling the model\n",
    "new_model1.compile(loss=loss, optimizer=optimizer, metrics=metrics)\n",
    "\n",
    "# training\n",
    "new_model1.fit_generator(train_generator,epochs=epochs,verbose=1, callbacks=callbacks)\n",
    "score1 = new_model1.evaluate(test_generator, verbose=1)\n",
    "printAccuracy(score1)"
   ]
  },
  {
   "cell_type": "markdown",
   "metadata": {},
   "source": [
    " "
   ]
  },
  {
   "cell_type": "markdown",
   "metadata": {},
   "source": [
    "### Hyperparameters Set 2\n",
    "\n",
    "applications.VGG16.pooling='avg'\n",
    "\n",
    "optimizers.SGD(lr=0.0001, momentum=0.9)"
   ]
  },
  {
   "cell_type": "code",
   "execution_count": 14,
   "metadata": {},
   "outputs": [
    {
     "name": "stdout",
     "output_type": "stream",
     "text": [
      "0 input_2 False\n",
      "1 block1_conv1 False\n",
      "2 block1_conv2 False\n",
      "3 block1_pool False\n",
      "4 block2_conv1 False\n",
      "5 block2_conv2 False\n",
      "6 block2_pool False\n",
      "7 block3_conv1 False\n",
      "8 block3_conv2 False\n",
      "9 block3_conv3 False\n",
      "10 block3_pool False\n",
      "11 block4_conv1 False\n",
      "12 block4_conv2 False\n",
      "13 block4_conv3 False\n",
      "14 block4_pool False\n",
      "15 block5_conv1 False\n",
      "16 block5_conv2 False\n",
      "17 block5_conv3 False\n",
      "18 block5_pool False\n",
      "19 global_average_pooling2d_1 False\n",
      "Model: \"vgg16\"\n",
      "_________________________________________________________________\n",
      "Layer (type)                 Output Shape              Param #   \n",
      "=================================================================\n",
      "input_2 (InputLayer)         (None, 150, 150, 3)       0         \n",
      "_________________________________________________________________\n",
      "block1_conv1 (Conv2D)        (None, 150, 150, 64)      1792      \n",
      "_________________________________________________________________\n",
      "block1_conv2 (Conv2D)        (None, 150, 150, 64)      36928     \n",
      "_________________________________________________________________\n",
      "block1_pool (MaxPooling2D)   (None, 75, 75, 64)        0         \n",
      "_________________________________________________________________\n",
      "block2_conv1 (Conv2D)        (None, 75, 75, 128)       73856     \n",
      "_________________________________________________________________\n",
      "block2_conv2 (Conv2D)        (None, 75, 75, 128)       147584    \n",
      "_________________________________________________________________\n",
      "block2_pool (MaxPooling2D)   (None, 37, 37, 128)       0         \n",
      "_________________________________________________________________\n",
      "block3_conv1 (Conv2D)        (None, 37, 37, 256)       295168    \n",
      "_________________________________________________________________\n",
      "block3_conv2 (Conv2D)        (None, 37, 37, 256)       590080    \n",
      "_________________________________________________________________\n",
      "block3_conv3 (Conv2D)        (None, 37, 37, 256)       590080    \n",
      "_________________________________________________________________\n",
      "block3_pool (MaxPooling2D)   (None, 18, 18, 256)       0         \n",
      "_________________________________________________________________\n",
      "block4_conv1 (Conv2D)        (None, 18, 18, 512)       1180160   \n",
      "_________________________________________________________________\n",
      "block4_conv2 (Conv2D)        (None, 18, 18, 512)       2359808   \n",
      "_________________________________________________________________\n",
      "block4_conv3 (Conv2D)        (None, 18, 18, 512)       2359808   \n",
      "_________________________________________________________________\n",
      "block4_pool (MaxPooling2D)   (None, 9, 9, 512)         0         \n",
      "_________________________________________________________________\n",
      "block5_conv1 (Conv2D)        (None, 9, 9, 512)         2359808   \n",
      "_________________________________________________________________\n",
      "block5_conv2 (Conv2D)        (None, 9, 9, 512)         2359808   \n",
      "_________________________________________________________________\n",
      "block5_conv3 (Conv2D)        (None, 9, 9, 512)         2359808   \n",
      "_________________________________________________________________\n",
      "block5_pool (MaxPooling2D)   (None, 4, 4, 512)         0         \n",
      "_________________________________________________________________\n",
      "global_average_pooling2d_1 ( (None, 512)               0         \n",
      "=================================================================\n",
      "Total params: 14,714,688\n",
      "Trainable params: 0\n",
      "Non-trainable params: 14,714,688\n",
      "_________________________________________________________________\n"
     ]
    }
   ],
   "source": [
    "# VGG16 pre-trained model without fully connected layers and with different input dimensions\n",
    "model1_hp2 = applications.VGG16(weights = weights, include_top=False, input_shape = (image_w, image_h, 3), pooling='avg')\n",
    "# Freezing all layers\n",
    "for layer in model1_hp2.layers:\n",
    "    layer.trainable = False\n",
    "printTrainableLayers(model1_hp2)\n",
    "model1_hp2.summary()"
   ]
  },
  {
   "cell_type": "code",
   "execution_count": 15,
   "metadata": {},
   "outputs": [
    {
     "name": "stdout",
     "output_type": "stream",
     "text": [
      "Model: \"sequential_2\"\n",
      "_________________________________________________________________\n",
      "Layer (type)                 Output Shape              Param #   \n",
      "=================================================================\n",
      "vgg16 (Model)                (None, 512)               14714688  \n",
      "_________________________________________________________________\n",
      "new_fc1 (Dense)              (None, 256)               131328    \n",
      "_________________________________________________________________\n",
      "new_predictions (Dense)      (None, 5)                 1285      \n",
      "=================================================================\n",
      "Total params: 14,847,301\n",
      "Trainable params: 132,613\n",
      "Non-trainable params: 14,714,688\n",
      "_________________________________________________________________\n"
     ]
    }
   ],
   "source": [
    "# Adding custom layers to create a new model \n",
    "new_model1_hp2 = Sequential([\n",
    "    model1_hp2,\n",
    "    #Flatten(name='flatten'),\n",
    "    Dense(256, activation='relu', name='new_fc1'),\n",
    "    Dense(5, activation='softmax', name='new_predictions')\n",
    "])\n",
    "new_model1_hp2.summary()"
   ]
  },
  {
   "cell_type": "code",
   "execution_count": 16,
   "metadata": {},
   "outputs": [
    {
     "name": "stdout",
     "output_type": "stream",
     "text": [
      "Epoch 1/10\n",
      "138/138 [==============================] - 269s 2s/step - loss: 1.6163 - accuracy: 0.2258\n",
      "Epoch 2/10\n",
      "138/138 [==============================] - 261s 2s/step - loss: 1.5448 - accuracy: 0.3216\n",
      "Epoch 3/10\n",
      "138/138 [==============================] - 255s 2s/step - loss: 1.4997 - accuracy: 0.3840\n",
      "Epoch 4/10\n",
      "138/138 [==============================] - 257s 2s/step - loss: 1.4602 - accuracy: 0.4421\n",
      "Epoch 5/10\n",
      "138/138 [==============================] - 260s 2s/step - loss: 1.4259 - accuracy: 0.4584\n",
      "Epoch 6/10\n",
      "138/138 [==============================] - 265s 2s/step - loss: 1.3942 - accuracy: 0.5034\n",
      "Epoch 7/10\n",
      "138/138 [==============================] - 267s 2s/step - loss: 1.3641 - accuracy: 0.5314\n",
      "Epoch 8/10\n",
      "138/138 [==============================] - 262s 2s/step - loss: 1.3339 - accuracy: 0.5408\n",
      "Epoch 9/10\n",
      "138/138 [==============================] - 267s 2s/step - loss: 1.3080 - accuracy: 0.5713\n",
      "Epoch 10/10\n",
      "138/138 [==============================] - 260s 2s/step - loss: 1.2836 - accuracy: 0.5742\n",
      "46/46 [==============================] - 88s 2s/step\n",
      "Test loss: 1.1222989559173584\n",
      "Test accuracy: 0.6918032765388489\n"
     ]
    }
   ],
   "source": [
    "# Compiling the model\n",
    "new_model1_hp2.compile(loss=loss, optimizer=optimizer, metrics=metrics)\n",
    "\n",
    "# training\n",
    "new_model1_hp2.fit_generator(train_generator,epochs=epochs,verbose=1, callbacks=callbacks)\n",
    "score1_hp2 = new_model1.evaluate(test_generator, verbose=1)\n",
    "printAccuracy(score1_hp2)"
   ]
  },
  {
   "cell_type": "markdown",
   "metadata": {},
   "source": []
  },
  {
   "cell_type": "markdown",
   "metadata": {},
   "source": [
    "### Hyperparameters Set 3\n",
    "\n",
    "applications.VGG16.pooling='max'\n",
    "\n",
    "optimizers.SGD(lr=0.0001, momentum=0.9)"
   ]
  },
  {
   "cell_type": "code",
   "execution_count": 17,
   "metadata": {},
   "outputs": [
    {
     "name": "stdout",
     "output_type": "stream",
     "text": [
      "0 input_3 False\n",
      "1 block1_conv1 False\n",
      "2 block1_conv2 False\n",
      "3 block1_pool False\n",
      "4 block2_conv1 False\n",
      "5 block2_conv2 False\n",
      "6 block2_pool False\n",
      "7 block3_conv1 False\n",
      "8 block3_conv2 False\n",
      "9 block3_conv3 False\n",
      "10 block3_pool False\n",
      "11 block4_conv1 False\n",
      "12 block4_conv2 False\n",
      "13 block4_conv3 False\n",
      "14 block4_pool False\n",
      "15 block5_conv1 False\n",
      "16 block5_conv2 False\n",
      "17 block5_conv3 False\n",
      "18 block5_pool False\n",
      "19 global_max_pooling2d_1 False\n",
      "Model: \"vgg16\"\n",
      "_________________________________________________________________\n",
      "Layer (type)                 Output Shape              Param #   \n",
      "=================================================================\n",
      "input_3 (InputLayer)         (None, 150, 150, 3)       0         \n",
      "_________________________________________________________________\n",
      "block1_conv1 (Conv2D)        (None, 150, 150, 64)      1792      \n",
      "_________________________________________________________________\n",
      "block1_conv2 (Conv2D)        (None, 150, 150, 64)      36928     \n",
      "_________________________________________________________________\n",
      "block1_pool (MaxPooling2D)   (None, 75, 75, 64)        0         \n",
      "_________________________________________________________________\n",
      "block2_conv1 (Conv2D)        (None, 75, 75, 128)       73856     \n",
      "_________________________________________________________________\n",
      "block2_conv2 (Conv2D)        (None, 75, 75, 128)       147584    \n",
      "_________________________________________________________________\n",
      "block2_pool (MaxPooling2D)   (None, 37, 37, 128)       0         \n",
      "_________________________________________________________________\n",
      "block3_conv1 (Conv2D)        (None, 37, 37, 256)       295168    \n",
      "_________________________________________________________________\n",
      "block3_conv2 (Conv2D)        (None, 37, 37, 256)       590080    \n",
      "_________________________________________________________________\n",
      "block3_conv3 (Conv2D)        (None, 37, 37, 256)       590080    \n",
      "_________________________________________________________________\n",
      "block3_pool (MaxPooling2D)   (None, 18, 18, 256)       0         \n",
      "_________________________________________________________________\n",
      "block4_conv1 (Conv2D)        (None, 18, 18, 512)       1180160   \n",
      "_________________________________________________________________\n",
      "block4_conv2 (Conv2D)        (None, 18, 18, 512)       2359808   \n",
      "_________________________________________________________________\n",
      "block4_conv3 (Conv2D)        (None, 18, 18, 512)       2359808   \n",
      "_________________________________________________________________\n",
      "block4_pool (MaxPooling2D)   (None, 9, 9, 512)         0         \n",
      "_________________________________________________________________\n",
      "block5_conv1 (Conv2D)        (None, 9, 9, 512)         2359808   \n",
      "_________________________________________________________________\n",
      "block5_conv2 (Conv2D)        (None, 9, 9, 512)         2359808   \n",
      "_________________________________________________________________\n",
      "block5_conv3 (Conv2D)        (None, 9, 9, 512)         2359808   \n",
      "_________________________________________________________________\n",
      "block5_pool (MaxPooling2D)   (None, 4, 4, 512)         0         \n",
      "_________________________________________________________________\n",
      "global_max_pooling2d_1 (Glob (None, 512)               0         \n",
      "=================================================================\n",
      "Total params: 14,714,688\n",
      "Trainable params: 0\n",
      "Non-trainable params: 14,714,688\n",
      "_________________________________________________________________\n"
     ]
    }
   ],
   "source": [
    "# VGG16 pre-trained model without fully connected layers and with different input dimensions\n",
    "model1_hp3 = applications.VGG16(weights = weights, include_top=False, input_shape = (image_w, image_h, 3), pooling='max')\n",
    "# Freezing all layers\n",
    "for layer in model1_hp3.layers:\n",
    "    layer.trainable = False\n",
    "printTrainableLayers(model1_hp3)\n",
    "model1_hp3.summary()"
   ]
  },
  {
   "cell_type": "code",
   "execution_count": 18,
   "metadata": {},
   "outputs": [
    {
     "name": "stdout",
     "output_type": "stream",
     "text": [
      "Model: \"sequential_3\"\n",
      "_________________________________________________________________\n",
      "Layer (type)                 Output Shape              Param #   \n",
      "=================================================================\n",
      "vgg16 (Model)                (None, 512)               14714688  \n",
      "_________________________________________________________________\n",
      "new_fc1 (Dense)              (None, 256)               131328    \n",
      "_________________________________________________________________\n",
      "new_predictions (Dense)      (None, 5)                 1285      \n",
      "=================================================================\n",
      "Total params: 14,847,301\n",
      "Trainable params: 132,613\n",
      "Non-trainable params: 14,714,688\n",
      "_________________________________________________________________\n"
     ]
    }
   ],
   "source": [
    "# Adding custom layers to create a new model \n",
    "new_model1_hp3 = Sequential([\n",
    "    model1_hp3,\n",
    "    #Flatten(name='flatten'),\n",
    "    Dense(256, activation='relu', name='new_fc1'),\n",
    "    Dense(5, activation='softmax', name='new_predictions')\n",
    "])\n",
    "new_model1_hp3.summary()"
   ]
  },
  {
   "cell_type": "code",
   "execution_count": 19,
   "metadata": {},
   "outputs": [
    {
     "name": "stdout",
     "output_type": "stream",
     "text": [
      "Epoch 1/10\n",
      "138/138 [==============================] - 263s 2s/step - loss: 1.6122 - accuracy: 0.2461\n",
      "Epoch 2/10\n",
      "138/138 [==============================] - 259s 2s/step - loss: 1.4219 - accuracy: 0.4279\n",
      "Epoch 3/10\n",
      "138/138 [==============================] - 259s 2s/step - loss: 1.2948 - accuracy: 0.5314\n",
      "Epoch 4/10\n",
      "138/138 [==============================] - 266s 2s/step - loss: 1.2010 - accuracy: 0.5880\n",
      "Epoch 5/10\n",
      "138/138 [==============================] - 278s 2s/step - loss: 1.1297 - accuracy: 0.6218\n",
      "Epoch 6/10\n",
      "138/138 [==============================] - 261s 2s/step - loss: 1.0724 - accuracy: 0.6490\n",
      "Epoch 7/10\n",
      "138/138 [==============================] - 262s 2s/step - loss: 1.0275 - accuracy: 0.6595\n",
      "Epoch 8/10\n",
      "138/138 [==============================] - 260s 2s/step - loss: 0.9903 - accuracy: 0.6704\n",
      "Epoch 9/10\n",
      "138/138 [==============================] - 260s 2s/step - loss: 0.9562 - accuracy: 0.6806\n",
      "Epoch 10/10\n",
      "138/138 [==============================] - 259s 2s/step - loss: 0.9285 - accuracy: 0.6842\n",
      "46/46 [==============================] - 86s 2s/step\n",
      "Test loss: 0.5061442852020264\n",
      "Test accuracy: 0.6918032765388489\n"
     ]
    }
   ],
   "source": [
    "# Compiling the model\n",
    "new_model1_hp3.compile(loss=loss, optimizer=optimizer, metrics=metrics)\n",
    "\n",
    "# training\n",
    "new_model1_hp3.fit_generator(train_generator,epochs=epochs,verbose=1, callbacks=callbacks)\n",
    "score1_hp3 = new_model1.evaluate(test_generator, verbose=1)\n",
    "printAccuracy(score1_hp3)"
   ]
  },
  {
   "cell_type": "markdown",
   "metadata": {},
   "source": [
    " "
   ]
  },
  {
   "cell_type": "markdown",
   "metadata": {},
   "source": [
    "### Hyperparameters Set 4\n",
    "\n",
    "applications.VGG16.pooling=None\n",
    "\n",
    "optimizers.SGD(lr=0.01, momentum=0.9)"
   ]
  },
  {
   "cell_type": "code",
   "execution_count": 20,
   "metadata": {},
   "outputs": [
    {
     "name": "stdout",
     "output_type": "stream",
     "text": [
      "0 input_4 False\n",
      "1 block1_conv1 False\n",
      "2 block1_conv2 False\n",
      "3 block1_pool False\n",
      "4 block2_conv1 False\n",
      "5 block2_conv2 False\n",
      "6 block2_pool False\n",
      "7 block3_conv1 False\n",
      "8 block3_conv2 False\n",
      "9 block3_conv3 False\n",
      "10 block3_pool False\n",
      "11 block4_conv1 False\n",
      "12 block4_conv2 False\n",
      "13 block4_conv3 False\n",
      "14 block4_pool False\n",
      "15 block5_conv1 False\n",
      "16 block5_conv2 False\n",
      "17 block5_conv3 False\n",
      "18 block5_pool False\n",
      "Model: \"vgg16\"\n",
      "_________________________________________________________________\n",
      "Layer (type)                 Output Shape              Param #   \n",
      "=================================================================\n",
      "input_4 (InputLayer)         (None, 150, 150, 3)       0         \n",
      "_________________________________________________________________\n",
      "block1_conv1 (Conv2D)        (None, 150, 150, 64)      1792      \n",
      "_________________________________________________________________\n",
      "block1_conv2 (Conv2D)        (None, 150, 150, 64)      36928     \n",
      "_________________________________________________________________\n",
      "block1_pool (MaxPooling2D)   (None, 75, 75, 64)        0         \n",
      "_________________________________________________________________\n",
      "block2_conv1 (Conv2D)        (None, 75, 75, 128)       73856     \n",
      "_________________________________________________________________\n",
      "block2_conv2 (Conv2D)        (None, 75, 75, 128)       147584    \n",
      "_________________________________________________________________\n",
      "block2_pool (MaxPooling2D)   (None, 37, 37, 128)       0         \n",
      "_________________________________________________________________\n",
      "block3_conv1 (Conv2D)        (None, 37, 37, 256)       295168    \n",
      "_________________________________________________________________\n",
      "block3_conv2 (Conv2D)        (None, 37, 37, 256)       590080    \n",
      "_________________________________________________________________\n",
      "block3_conv3 (Conv2D)        (None, 37, 37, 256)       590080    \n",
      "_________________________________________________________________\n",
      "block3_pool (MaxPooling2D)   (None, 18, 18, 256)       0         \n",
      "_________________________________________________________________\n",
      "block4_conv1 (Conv2D)        (None, 18, 18, 512)       1180160   \n",
      "_________________________________________________________________\n",
      "block4_conv2 (Conv2D)        (None, 18, 18, 512)       2359808   \n",
      "_________________________________________________________________\n",
      "block4_conv3 (Conv2D)        (None, 18, 18, 512)       2359808   \n",
      "_________________________________________________________________\n",
      "block4_pool (MaxPooling2D)   (None, 9, 9, 512)         0         \n",
      "_________________________________________________________________\n",
      "block5_conv1 (Conv2D)        (None, 9, 9, 512)         2359808   \n",
      "_________________________________________________________________\n",
      "block5_conv2 (Conv2D)        (None, 9, 9, 512)         2359808   \n",
      "_________________________________________________________________\n",
      "block5_conv3 (Conv2D)        (None, 9, 9, 512)         2359808   \n",
      "_________________________________________________________________\n",
      "block5_pool (MaxPooling2D)   (None, 4, 4, 512)         0         \n",
      "=================================================================\n",
      "Total params: 14,714,688\n",
      "Trainable params: 0\n",
      "Non-trainable params: 14,714,688\n",
      "_________________________________________________________________\n"
     ]
    }
   ],
   "source": [
    "# VGG16 pre-trained model without fully connected layers and with different input dimensions\n",
    "model1_hp4 = applications.VGG16(weights = weights, include_top=False, input_shape = (image_w, image_h, 3))\n",
    "# Freezing all layers\n",
    "for layer in model1_hp4.layers:\n",
    "    layer.trainable = False\n",
    "printTrainableLayers(model1_hp4)\n",
    "model1_hp4.summary()"
   ]
  },
  {
   "cell_type": "code",
   "execution_count": 21,
   "metadata": {},
   "outputs": [
    {
     "name": "stdout",
     "output_type": "stream",
     "text": [
      "Model: \"sequential_4\"\n",
      "_________________________________________________________________\n",
      "Layer (type)                 Output Shape              Param #   \n",
      "=================================================================\n",
      "vgg16 (Model)                (None, 4, 4, 512)         14714688  \n",
      "_________________________________________________________________\n",
      "flatten (Flatten)            (None, 8192)              0         \n",
      "_________________________________________________________________\n",
      "new_fc1 (Dense)              (None, 256)               2097408   \n",
      "_________________________________________________________________\n",
      "new_predictions (Dense)      (None, 5)                 1285      \n",
      "=================================================================\n",
      "Total params: 16,813,381\n",
      "Trainable params: 2,098,693\n",
      "Non-trainable params: 14,714,688\n",
      "_________________________________________________________________\n"
     ]
    }
   ],
   "source": [
    "# Adding custom layers to create a new model \n",
    "new_model1_hp4 = Sequential([\n",
    "    model1_hp4,\n",
    "    Flatten(name='flatten'),\n",
    "    Dense(256, activation='relu', name='new_fc1'),\n",
    "    Dense(5, activation='softmax', name='new_predictions')\n",
    "])\n",
    "new_model1_hp4.summary()"
   ]
  },
  {
   "cell_type": "code",
   "execution_count": 22,
   "metadata": {},
   "outputs": [
    {
     "name": "stdout",
     "output_type": "stream",
     "text": [
      "Epoch 1/10\n",
      "138/138 [==============================] - 276s 2s/step - loss: 1.4400 - accuracy: 0.4142\n",
      "Epoch 2/10\n",
      "138/138 [==============================] - 266s 2s/step - loss: 0.9717 - accuracy: 0.6261\n",
      "Epoch 3/10\n",
      "138/138 [==============================] - 265s 2s/step - loss: 0.9366 - accuracy: 0.6490\n",
      "Epoch 4/10\n",
      "138/138 [==============================] - 263s 2s/step - loss: 0.8685 - accuracy: 0.6871\n",
      "Epoch 5/10\n",
      "138/138 [==============================] - 260s 2s/step - loss: 0.6781 - accuracy: 0.7691\n",
      "Epoch 6/10\n",
      "138/138 [==============================] - 262s 2s/step - loss: 0.7141 - accuracy: 0.7481\n",
      "Epoch 7/10\n",
      "138/138 [==============================] - 261s 2s/step - loss: 0.6636 - accuracy: 0.7757\n",
      "Epoch 8/10\n",
      "138/138 [==============================] - 273s 2s/step - loss: 0.5197 - accuracy: 0.8316\n",
      "Epoch 9/10\n",
      "138/138 [==============================] - 269s 2s/step - loss: 0.5277 - accuracy: 0.8207\n",
      "Epoch 10/10\n",
      "138/138 [==============================] - 265s 2s/step - loss: 0.4081 - accuracy: 0.8639\n",
      "46/46 [==============================] - 86s 2s/step\n",
      "Test loss: 0.8389815092086792\n",
      "Test accuracy: 0.6918032765388489\n"
     ]
    }
   ],
   "source": [
    "# Compiling the model\n",
    "new_model1_hp4.compile(loss=loss, optimizer=optimizers.SGD(lr=0.01, momentum=0.9), metrics=metrics)\n",
    "\n",
    "# training\n",
    "new_model1_hp4.fit_generator(train_generator,epochs=epochs,verbose=1, callbacks=callbacks)\n",
    "score1_hp4 = new_model1.evaluate(test_generator, verbose=1)\n",
    "printAccuracy(score1_hp4)"
   ]
  },
  {
   "cell_type": "markdown",
   "metadata": {},
   "source": [
    " "
   ]
  },
  {
   "cell_type": "markdown",
   "metadata": {},
   "source": [
    "### Hyperparameters Set 5\n",
    "\n",
    "applications.VGG16.pooling=None\n",
    "\n",
    "optimizers.SGD(lr=0.0001, momentum=0.45)"
   ]
  },
  {
   "cell_type": "code",
   "execution_count": 23,
   "metadata": {},
   "outputs": [
    {
     "name": "stdout",
     "output_type": "stream",
     "text": [
      "0 input_5 False\n",
      "1 block1_conv1 False\n",
      "2 block1_conv2 False\n",
      "3 block1_pool False\n",
      "4 block2_conv1 False\n",
      "5 block2_conv2 False\n",
      "6 block2_pool False\n",
      "7 block3_conv1 False\n",
      "8 block3_conv2 False\n",
      "9 block3_conv3 False\n",
      "10 block3_pool False\n",
      "11 block4_conv1 False\n",
      "12 block4_conv2 False\n",
      "13 block4_conv3 False\n",
      "14 block4_pool False\n",
      "15 block5_conv1 False\n",
      "16 block5_conv2 False\n",
      "17 block5_conv3 False\n",
      "18 block5_pool False\n",
      "Model: \"vgg16\"\n",
      "_________________________________________________________________\n",
      "Layer (type)                 Output Shape              Param #   \n",
      "=================================================================\n",
      "input_5 (InputLayer)         (None, 150, 150, 3)       0         \n",
      "_________________________________________________________________\n",
      "block1_conv1 (Conv2D)        (None, 150, 150, 64)      1792      \n",
      "_________________________________________________________________\n",
      "block1_conv2 (Conv2D)        (None, 150, 150, 64)      36928     \n",
      "_________________________________________________________________\n",
      "block1_pool (MaxPooling2D)   (None, 75, 75, 64)        0         \n",
      "_________________________________________________________________\n",
      "block2_conv1 (Conv2D)        (None, 75, 75, 128)       73856     \n",
      "_________________________________________________________________\n",
      "block2_conv2 (Conv2D)        (None, 75, 75, 128)       147584    \n",
      "_________________________________________________________________\n",
      "block2_pool (MaxPooling2D)   (None, 37, 37, 128)       0         \n",
      "_________________________________________________________________\n",
      "block3_conv1 (Conv2D)        (None, 37, 37, 256)       295168    \n",
      "_________________________________________________________________\n",
      "block3_conv2 (Conv2D)        (None, 37, 37, 256)       590080    \n",
      "_________________________________________________________________\n",
      "block3_conv3 (Conv2D)        (None, 37, 37, 256)       590080    \n",
      "_________________________________________________________________\n",
      "block3_pool (MaxPooling2D)   (None, 18, 18, 256)       0         \n",
      "_________________________________________________________________\n",
      "block4_conv1 (Conv2D)        (None, 18, 18, 512)       1180160   \n",
      "_________________________________________________________________\n",
      "block4_conv2 (Conv2D)        (None, 18, 18, 512)       2359808   \n",
      "_________________________________________________________________\n",
      "block4_conv3 (Conv2D)        (None, 18, 18, 512)       2359808   \n",
      "_________________________________________________________________\n",
      "block4_pool (MaxPooling2D)   (None, 9, 9, 512)         0         \n",
      "_________________________________________________________________\n",
      "block5_conv1 (Conv2D)        (None, 9, 9, 512)         2359808   \n",
      "_________________________________________________________________\n",
      "block5_conv2 (Conv2D)        (None, 9, 9, 512)         2359808   \n",
      "_________________________________________________________________\n",
      "block5_conv3 (Conv2D)        (None, 9, 9, 512)         2359808   \n",
      "_________________________________________________________________\n",
      "block5_pool (MaxPooling2D)   (None, 4, 4, 512)         0         \n",
      "=================================================================\n",
      "Total params: 14,714,688\n",
      "Trainable params: 0\n",
      "Non-trainable params: 14,714,688\n",
      "_________________________________________________________________\n"
     ]
    }
   ],
   "source": [
    "# VGG16 pre-trained model without fully connected layers and with different input dimensions\n",
    "model1_hp5 = applications.VGG16(weights = weights, include_top=False, input_shape = (image_w, image_h, 3))\n",
    "# Freezing all layers\n",
    "for layer in model1_hp5.layers:\n",
    "    layer.trainable = False\n",
    "printTrainableLayers(model1_hp5)\n",
    "model1_hp5.summary()"
   ]
  },
  {
   "cell_type": "code",
   "execution_count": 24,
   "metadata": {},
   "outputs": [
    {
     "name": "stdout",
     "output_type": "stream",
     "text": [
      "Model: \"sequential_5\"\n",
      "_________________________________________________________________\n",
      "Layer (type)                 Output Shape              Param #   \n",
      "=================================================================\n",
      "vgg16 (Model)                (None, 4, 4, 512)         14714688  \n",
      "_________________________________________________________________\n",
      "flatten (Flatten)            (None, 8192)              0         \n",
      "_________________________________________________________________\n",
      "new_fc1 (Dense)              (None, 256)               2097408   \n",
      "_________________________________________________________________\n",
      "new_predictions (Dense)      (None, 5)                 1285      \n",
      "=================================================================\n",
      "Total params: 16,813,381\n",
      "Trainable params: 2,098,693\n",
      "Non-trainable params: 14,714,688\n",
      "_________________________________________________________________\n"
     ]
    }
   ],
   "source": [
    "# Adding custom layers to create a new model \n",
    "new_model1_hp5 = Sequential([\n",
    "    model1_hp5,\n",
    "    Flatten(name='flatten'),\n",
    "    Dense(256, activation='relu', name='new_fc1'),\n",
    "    Dense(5, activation='softmax', name='new_predictions')\n",
    "])\n",
    "new_model1_hp5.summary()"
   ]
  },
  {
   "cell_type": "code",
   "execution_count": 25,
   "metadata": {},
   "outputs": [
    {
     "name": "stdout",
     "output_type": "stream",
     "text": [
      "Epoch 1/10\n",
      "138/138 [==============================] - 263s 2s/step - loss: 1.6036 - accuracy: 0.2588\n",
      "Epoch 2/10\n",
      "138/138 [==============================] - 262s 2s/step - loss: 1.4774 - accuracy: 0.3848\n",
      "Epoch 3/10\n",
      "138/138 [==============================] - 260s 2s/step - loss: 1.3842 - accuracy: 0.4711\n",
      "Epoch 4/10\n",
      "138/138 [==============================] - 259s 2s/step - loss: 1.3099 - accuracy: 0.5209\n",
      "Epoch 5/10\n",
      "138/138 [==============================] - 266s 2s/step - loss: 1.2484 - accuracy: 0.5673\n",
      "Epoch 6/10\n",
      "138/138 [==============================] - 261s 2s/step - loss: 1.1951 - accuracy: 0.5949\n",
      "Epoch 7/10\n",
      "138/138 [==============================] - 267s 2s/step - loss: 1.1512 - accuracy: 0.6189\n",
      "Epoch 8/10\n",
      "138/138 [==============================] - 259s 2s/step - loss: 1.1114 - accuracy: 0.6381\n",
      "Epoch 9/10\n",
      "138/138 [==============================] - 261s 2s/step - loss: 1.0772 - accuracy: 0.6512\n",
      "Epoch 10/10\n",
      "138/138 [==============================] - 262s 2s/step - loss: 1.0464 - accuracy: 0.6624\n",
      "46/46 [==============================] - 90s 2s/step\n",
      "Test loss: 0.599120557308197\n",
      "Test accuracy: 0.6918032765388489\n"
     ]
    }
   ],
   "source": [
    "# Compiling the model\n",
    "new_model1_hp5.compile(loss=loss, optimizer=optimizers.SGD(lr=0.0001, momentum=0.45), metrics=metrics)\n",
    "\n",
    "# training\n",
    "new_model1_hp5.fit_generator(train_generator,epochs=epochs,verbose=1, callbacks=callbacks)\n",
    "score1_hp5 = new_model1.evaluate(test_generator, verbose=1)\n",
    "printAccuracy(score1_hp5)"
   ]
  },
  {
   "cell_type": "markdown",
   "metadata": {},
   "source": [
    " "
   ]
  },
  {
   "cell_type": "markdown",
   "metadata": {},
   "source": [
    "## Model2"
   ]
  },
  {
   "cell_type": "code",
   "execution_count": 26,
   "metadata": {},
   "outputs": [
    {
     "name": "stdout",
     "output_type": "stream",
     "text": [
      "0 input_6 False\n",
      "1 block1_conv1 False\n",
      "2 block1_conv2 False\n",
      "3 block1_pool False\n",
      "4 block2_conv1 False\n",
      "5 block2_conv2 False\n",
      "6 block2_pool False\n",
      "7 block3_conv1 False\n",
      "8 block3_conv2 False\n",
      "9 block3_conv3 False\n",
      "10 block3_pool False\n",
      "11 block4_conv1 False\n",
      "12 block4_conv2 False\n",
      "13 block4_conv3 False\n",
      "14 block4_pool False\n",
      "15 block5_conv1 True\n",
      "16 block5_conv2 True\n",
      "17 block5_conv3 True\n",
      "18 block5_pool True\n",
      "Model: \"vgg16\"\n",
      "_________________________________________________________________\n",
      "Layer (type)                 Output Shape              Param #   \n",
      "=================================================================\n",
      "input_6 (InputLayer)         (None, 150, 150, 3)       0         \n",
      "_________________________________________________________________\n",
      "block1_conv1 (Conv2D)        (None, 150, 150, 64)      1792      \n",
      "_________________________________________________________________\n",
      "block1_conv2 (Conv2D)        (None, 150, 150, 64)      36928     \n",
      "_________________________________________________________________\n",
      "block1_pool (MaxPooling2D)   (None, 75, 75, 64)        0         \n",
      "_________________________________________________________________\n",
      "block2_conv1 (Conv2D)        (None, 75, 75, 128)       73856     \n",
      "_________________________________________________________________\n",
      "block2_conv2 (Conv2D)        (None, 75, 75, 128)       147584    \n",
      "_________________________________________________________________\n",
      "block2_pool (MaxPooling2D)   (None, 37, 37, 128)       0         \n",
      "_________________________________________________________________\n",
      "block3_conv1 (Conv2D)        (None, 37, 37, 256)       295168    \n",
      "_________________________________________________________________\n",
      "block3_conv2 (Conv2D)        (None, 37, 37, 256)       590080    \n",
      "_________________________________________________________________\n",
      "block3_conv3 (Conv2D)        (None, 37, 37, 256)       590080    \n",
      "_________________________________________________________________\n",
      "block3_pool (MaxPooling2D)   (None, 18, 18, 256)       0         \n",
      "_________________________________________________________________\n",
      "block4_conv1 (Conv2D)        (None, 18, 18, 512)       1180160   \n",
      "_________________________________________________________________\n",
      "block4_conv2 (Conv2D)        (None, 18, 18, 512)       2359808   \n",
      "_________________________________________________________________\n",
      "block4_conv3 (Conv2D)        (None, 18, 18, 512)       2359808   \n",
      "_________________________________________________________________\n",
      "block4_pool (MaxPooling2D)   (None, 9, 9, 512)         0         \n",
      "_________________________________________________________________\n",
      "block5_conv1 (Conv2D)        (None, 9, 9, 512)         2359808   \n",
      "_________________________________________________________________\n",
      "block5_conv2 (Conv2D)        (None, 9, 9, 512)         2359808   \n",
      "_________________________________________________________________\n",
      "block5_conv3 (Conv2D)        (None, 9, 9, 512)         2359808   \n",
      "_________________________________________________________________\n",
      "block5_pool (MaxPooling2D)   (None, 4, 4, 512)         0         \n",
      "=================================================================\n",
      "Total params: 14,714,688\n",
      "Trainable params: 7,079,424\n",
      "Non-trainable params: 7,635,264\n",
      "_________________________________________________________________\n"
     ]
    }
   ],
   "source": [
    "# VGG16 pre-trained model without fully connected layers and with different input dimensions\n",
    "model2 = applications.VGG16(weights = weights, include_top=False, input_shape = (image_w, image_h, 3))\n",
    "# Freezing the layers until block5\n",
    "for layer in model2.layers[:15]:\n",
    "    layer.trainable = False\n",
    "printTrainableLayers(model2)\n",
    "model2.summary()"
   ]
  },
  {
   "cell_type": "code",
   "execution_count": 27,
   "metadata": {},
   "outputs": [
    {
     "name": "stdout",
     "output_type": "stream",
     "text": [
      "Model: \"sequential_6\"\n",
      "_________________________________________________________________\n",
      "Layer (type)                 Output Shape              Param #   \n",
      "=================================================================\n",
      "vgg16 (Model)                (None, 4, 4, 512)         14714688  \n",
      "_________________________________________________________________\n",
      "flatten (Flatten)            (None, 8192)              0         \n",
      "_________________________________________________________________\n",
      "new_fc1 (Dense)              (None, 256)               2097408   \n",
      "_________________________________________________________________\n",
      "new_predictions (Dense)      (None, 5)                 1285      \n",
      "=================================================================\n",
      "Total params: 16,813,381\n",
      "Trainable params: 9,178,117\n",
      "Non-trainable params: 7,635,264\n",
      "_________________________________________________________________\n"
     ]
    }
   ],
   "source": [
    "# Adding custom layers to create a new model \n",
    "new_model2 = Sequential([\n",
    "    model2,\n",
    "    Flatten(name='flatten'),\n",
    "    Dense(256, activation='relu', name='new_fc1'),\n",
    "    Dense(5, activation='softmax', name='new_predictions')\n",
    "])\n",
    "new_model2.summary()"
   ]
  },
  {
   "cell_type": "code",
   "execution_count": 28,
   "metadata": {},
   "outputs": [
    {
     "name": "stdout",
     "output_type": "stream",
     "text": [
      "Epoch 1/10\n",
      "138/138 [==============================] - 354s 3s/step - loss: 1.2695 - accuracy: 0.5056\n",
      "Epoch 2/10\n",
      "138/138 [==============================] - 320s 2s/step - loss: 0.7286 - accuracy: 0.7365\n",
      "Epoch 3/10\n",
      "138/138 [==============================] - 320s 2s/step - loss: 0.5411 - accuracy: 0.8087\n",
      "Epoch 4/10\n",
      "138/138 [==============================] - 320s 2s/step - loss: 0.4391 - accuracy: 0.8523\n",
      "Epoch 5/10\n",
      "138/138 [==============================] - 326s 2s/step - loss: 0.3558 - accuracy: 0.8842\n",
      "Epoch 6/10\n",
      "138/138 [==============================] - 319s 2s/step - loss: 0.2978 - accuracy: 0.9053\n",
      "Epoch 7/10\n",
      "138/138 [==============================] - 323s 2s/step - loss: 0.2515 - accuracy: 0.9216\n",
      "Epoch 8/10\n",
      "138/138 [==============================] - 318s 2s/step - loss: 0.2176 - accuracy: 0.9405\n",
      "Epoch 9/10\n",
      "138/138 [==============================] - 319s 2s/step - loss: 0.1828 - accuracy: 0.9495\n",
      "Epoch 10/10\n",
      "138/138 [==============================] - 319s 2s/step - loss: 0.1626 - accuracy: 0.9601\n",
      "46/46 [==============================] - 85s 2s/step\n",
      "Test loss: 1.1478068828582764\n",
      "Test accuracy: 0.8393442630767822\n"
     ]
    }
   ],
   "source": [
    "# Compiling the model\n",
    "new_model2.compile(loss=loss, optimizer=optimizer, metrics=metrics)\n",
    "\n",
    "# training\n",
    "new_model2.fit_generator(train_generator,epochs=epochs,verbose=1, callbacks=callbacks)\n",
    "score2 = new_model2.evaluate(test_generator, verbose=1)\n",
    "printAccuracy(score2)"
   ]
  },
  {
   "cell_type": "code",
   "execution_count": null,
   "metadata": {},
   "outputs": [],
   "source": []
  },
  {
   "cell_type": "markdown",
   "metadata": {},
   "source": [
    "## Model3"
   ]
  },
  {
   "cell_type": "code",
   "execution_count": 29,
   "metadata": {},
   "outputs": [
    {
     "name": "stdout",
     "output_type": "stream",
     "text": [
      "0 input_7 False\n",
      "1 block1_conv1 True\n",
      "2 block1_conv2 True\n",
      "3 block1_pool True\n",
      "4 block2_conv1 True\n",
      "5 block2_conv2 True\n",
      "6 block2_pool True\n",
      "7 block3_conv1 True\n",
      "8 block3_conv2 True\n",
      "9 block3_conv3 True\n",
      "10 block3_pool True\n",
      "11 block4_conv1 True\n",
      "12 block4_conv2 True\n",
      "13 block4_conv3 True\n",
      "14 block4_pool True\n",
      "15 block5_conv1 True\n",
      "16 block5_conv2 True\n",
      "17 block5_conv3 True\n",
      "18 block5_pool True\n",
      "Model: \"vgg16\"\n",
      "_________________________________________________________________\n",
      "Layer (type)                 Output Shape              Param #   \n",
      "=================================================================\n",
      "input_7 (InputLayer)         (None, 150, 150, 3)       0         \n",
      "_________________________________________________________________\n",
      "block1_conv1 (Conv2D)        (None, 150, 150, 64)      1792      \n",
      "_________________________________________________________________\n",
      "block1_conv2 (Conv2D)        (None, 150, 150, 64)      36928     \n",
      "_________________________________________________________________\n",
      "block1_pool (MaxPooling2D)   (None, 75, 75, 64)        0         \n",
      "_________________________________________________________________\n",
      "block2_conv1 (Conv2D)        (None, 75, 75, 128)       73856     \n",
      "_________________________________________________________________\n",
      "block2_conv2 (Conv2D)        (None, 75, 75, 128)       147584    \n",
      "_________________________________________________________________\n",
      "block2_pool (MaxPooling2D)   (None, 37, 37, 128)       0         \n",
      "_________________________________________________________________\n",
      "block3_conv1 (Conv2D)        (None, 37, 37, 256)       295168    \n",
      "_________________________________________________________________\n",
      "block3_conv2 (Conv2D)        (None, 37, 37, 256)       590080    \n",
      "_________________________________________________________________\n",
      "block3_conv3 (Conv2D)        (None, 37, 37, 256)       590080    \n",
      "_________________________________________________________________\n",
      "block3_pool (MaxPooling2D)   (None, 18, 18, 256)       0         \n",
      "_________________________________________________________________\n",
      "block4_conv1 (Conv2D)        (None, 18, 18, 512)       1180160   \n",
      "_________________________________________________________________\n",
      "block4_conv2 (Conv2D)        (None, 18, 18, 512)       2359808   \n",
      "_________________________________________________________________\n",
      "block4_conv3 (Conv2D)        (None, 18, 18, 512)       2359808   \n",
      "_________________________________________________________________\n",
      "block4_pool (MaxPooling2D)   (None, 9, 9, 512)         0         \n",
      "_________________________________________________________________\n",
      "block5_conv1 (Conv2D)        (None, 9, 9, 512)         2359808   \n",
      "_________________________________________________________________\n",
      "block5_conv2 (Conv2D)        (None, 9, 9, 512)         2359808   \n",
      "_________________________________________________________________\n",
      "block5_conv3 (Conv2D)        (None, 9, 9, 512)         2359808   \n",
      "_________________________________________________________________\n",
      "block5_pool (MaxPooling2D)   (None, 4, 4, 512)         0         \n",
      "=================================================================\n",
      "Total params: 14,714,688\n",
      "Trainable params: 14,714,688\n",
      "Non-trainable params: 0\n",
      "_________________________________________________________________\n"
     ]
    }
   ],
   "source": [
    "# VGG16 pre-trained model without fully connected layers and with different input dimensions\n",
    "model3 = applications.VGG16(weights = weights, include_top=False, input_shape = (image_w, image_h, 3))\n",
    "# all layers will be trainable\n",
    "printTrainableLayers(model3)\n",
    "model3.summary()"
   ]
  },
  {
   "cell_type": "code",
   "execution_count": 30,
   "metadata": {},
   "outputs": [
    {
     "name": "stdout",
     "output_type": "stream",
     "text": [
      "Model: \"sequential_7\"\n",
      "_________________________________________________________________\n",
      "Layer (type)                 Output Shape              Param #   \n",
      "=================================================================\n",
      "vgg16 (Model)                (None, 4, 4, 512)         14714688  \n",
      "_________________________________________________________________\n",
      "flatten (Flatten)            (None, 8192)              0         \n",
      "_________________________________________________________________\n",
      "new_fc1 (Dense)              (None, 256)               2097408   \n",
      "_________________________________________________________________\n",
      "new_predictions (Dense)      (None, 5)                 1285      \n",
      "=================================================================\n",
      "Total params: 16,813,381\n",
      "Trainable params: 16,813,381\n",
      "Non-trainable params: 0\n",
      "_________________________________________________________________\n"
     ]
    }
   ],
   "source": [
    "# Adding custom layers to create a new model \n",
    "new_model3 = Sequential([\n",
    "    model3,\n",
    "    Flatten(name='flatten'),\n",
    "    Dense(256, activation='relu', name='new_fc1'),\n",
    "    Dense(5, activation='softmax', name='new_predictions')\n",
    "])\n",
    "new_model3.summary()"
   ]
  },
  {
   "cell_type": "code",
   "execution_count": 31,
   "metadata": {},
   "outputs": [
    {
     "name": "stdout",
     "output_type": "stream",
     "text": [
      "Epoch 1/10\n",
      "138/138 [==============================] - 982s 7s/step - loss: 1.2055 - accuracy: 0.5303\n",
      "Epoch 2/10\n",
      "138/138 [==============================] - 974s 7s/step - loss: 0.5658 - accuracy: 0.7971\n",
      "Epoch 3/10\n",
      "138/138 [==============================] - 957s 7s/step - loss: 0.3775 - accuracy: 0.8610\n",
      "Epoch 4/10\n",
      "138/138 [==============================] - 968s 7s/step - loss: 0.2499 - accuracy: 0.9162\n",
      "Epoch 5/10\n",
      "138/138 [==============================] - 988s 7s/step - loss: 0.1774 - accuracy: 0.9372\n",
      "Epoch 6/10\n",
      "138/138 [==============================] - 962s 7s/step - loss: 0.1184 - accuracy: 0.9648\n",
      "Epoch 7/10\n",
      "138/138 [==============================] - 959s 7s/step - loss: 0.0632 - accuracy: 0.9837\n",
      "Epoch 8/10\n",
      "138/138 [==============================] - 958s 7s/step - loss: 0.0412 - accuracy: 0.9917\n",
      "Epoch 9/10\n",
      "138/138 [==============================] - 948s 7s/step - loss: 0.0160 - accuracy: 0.9996\n",
      "Epoch 10/10\n",
      "138/138 [==============================] - 961s 7s/step - loss: 0.0098 - accuracy: 0.9989\n",
      "46/46 [==============================] - 88s 2s/step\n",
      "Test loss: 1.2802140712738037\n",
      "Test accuracy: 0.8469945192337036\n"
     ]
    }
   ],
   "source": [
    "# Compiling the model\n",
    "new_model3.compile(loss=loss, optimizer=optimizer, metrics=metrics)\n",
    "\n",
    "# training\n",
    "new_model3.fit_generator(train_generator,epochs=epochs,verbose=1, callbacks=callbacks)\n",
    "score3 = new_model3.evaluate(test_generator, verbose=1)\n",
    "printAccuracy(score3)"
   ]
  },
  {
   "cell_type": "markdown",
   "metadata": {},
   "source": [
    " "
   ]
  },
  {
   "cell_type": "markdown",
   "metadata": {},
   "source": [
    "## Outcome Comparison"
   ]
  },
  {
   "cell_type": "code",
   "execution_count": 32,
   "metadata": {},
   "outputs": [
    {
     "data": {
      "image/png": "[encoded data removed]",
      "text/plain": [
       "<Figure size 432x288 with 1 Axes>"
      ]
     },
     "metadata": {
      "needs_background": "light"
     },
     "output_type": "display_data"
    }
   ],
   "source": [
    "experiments = [\"Model 1.1\",\"Model 1.2\",\"Model 1.3\",\"Model 1.4\",\"Model 1.5\",\"Model 2\",\"Model 3\"]\n",
    "\n",
    "test_acc_summary = []\n",
    "\n",
    "test_acc_summary.append(score1[1])\n",
    "test_acc_summary.append(score1_hp2[1])\n",
    "test_acc_summary.append(score1_hp3[1])\n",
    "test_acc_summary.append(score1_hp4[1])\n",
    "test_acc_summary.append(score1_hp5[1])\n",
    "test_acc_summary.append(score2[1])\n",
    "test_acc_summary.append(score3[1])\n",
    "\n",
    "# \"bo\" is for \"blue dot\"\n",
    "plt.plot(experiments, test_acc_summary, 'bo', label='Test Accuracy')\n",
    "plt.title('Test Accuracy')\n",
    "plt.xlabel('Experiments')\n",
    "plt.ylabel('Accuracy')\n",
    "plt.legend()\n",
    "\n",
    "plt.show()\n",
    "    "
   ]
  },
  {
   "cell_type": "markdown",
   "metadata": {},
   "source": [
    "The better model is Model 3, because params are all trainable. This way the convolutional layers could learn the specifics of flowers data set."
   ]
  },
  {
   "cell_type": "markdown",
   "metadata": {},
   "source": [
    " "
   ]
  }
 ],
 "metadata": {
  "kernelspec": {
   "display_name": "Python 3",
   "language": "python",
   "name": "python3"
  },
  "language_info": {
   "codemirror_mode": {
    "name": "ipython",
    "version": 3
   },
   "file_extension": ".py",
   "mimetype": "text/x-python",
   "name": "python",
   "nbconvert_exporter": "python",
   "pygments_lexer": "ipython3",
   "version": "3.6.8"
  }
 },
 "nbformat": 4,
 "nbformat_minor": 2
}
